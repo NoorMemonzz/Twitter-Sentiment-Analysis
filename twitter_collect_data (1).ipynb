{
 "cells": [
  {
   "cell_type": "code",
   "execution_count": 1,
   "id": "3178763f",
   "metadata": {},
   "outputs": [],
   "source": [
    "# Collect relevant tweets through the Twitter API.\n",
    "import json\n",
    "import requests\n",
    "import tweepy as tw"
   ]
  },
  {
   "cell_type": "code",
   "execution_count": 2,
   "id": "3238ea17",
   "metadata": {},
   "outputs": [],
   "source": [
    "# IMPORTANT: enter proper access credential in config_twitter_v2api.py file\n",
    "import config_twitter_v2api as config_twitter"
   ]
  },
  {
   "cell_type": "code",
   "execution_count": 3,
   "id": "b6c4d588",
   "metadata": {},
   "outputs": [
    {
     "data": {
      "text/plain": [
       "<tweepy.client.Client at 0x7fb3db3a32e0>"
      ]
     },
     "execution_count": 3,
     "metadata": {},
     "output_type": "execute_result"
    }
   ],
   "source": [
    "# Establish the Twitter v2 API connection, respecting the rate limit\n",
    "api = tw.Client(bearer_token=config_twitter.bearer_token, wait_on_rate_limit=True)\n",
    "api"
   ]
  },
  {
   "cell_type": "code",
   "execution_count": 4,
   "id": "a2638601",
   "metadata": {},
   "outputs": [],
   "source": [
    "# construct a search query\n",
    "query = 'marvel OR \"marvel comics\" OR \"phase 5 marvel\" -is:retweet lang:en'"
   ]
  },
  {
   "cell_type": "code",
   "execution_count": 5,
   "id": "c6a9dcb4",
   "metadata": {},
   "outputs": [],
   "source": [
    "# decide how many tweets to query\n",
    "###TODO increase this value later to collect a good dataset (try 10000 for instance)\n",
    "ntweets = 10000\n",
    "#ntweets = 10000"
   ]
  },
  {
   "cell_type": "code",
   "execution_count": 6,
   "id": "9f53c25c",
   "metadata": {},
   "outputs": [
    {
     "data": {
      "text/plain": [
       "10000"
      ]
     },
     "execution_count": 6,
     "metadata": {},
     "output_type": "execute_result"
    }
   ],
   "source": [
    "# collect recent tweets and convert to json\n",
    "fields_sel = ['id', 'created_at', 'text', 'author_id', 'public_metrics']\n",
    "tweets_resp = tw.Paginator(api.search_recent_tweets, query=query, tweet_fields=fields_sel,\n",
    "                           max_results=100).flatten(limit=ntweets)\n",
    "tweets = [t.data for t in tweets_resp]\n",
    "len(tweets)"
   ]
  },
  {
   "cell_type": "code",
   "execution_count": 7,
   "id": "9971f9c3",
   "metadata": {},
   "outputs": [
    {
     "data": {
      "text/plain": [
       "{'id': '1553528100952031233',\n",
       " 'author_id': '1434729091',\n",
       " 'created_at': '2022-07-30T23:48:57.000Z',\n",
       " 'text': 'RT @ac_matsumoto: ⚡️🪓イッツ ”ソー” タイム🎶⚡️\\n\\n❤️&amp;⚡️━━━━━\\n\\u3000『#ソーラブアンドサンダー 』\\n\\u3000\\u3000\\u3000 7/8(金)劇場降臨！\\n \\u3000\\u3000\\u3000\\u3000\\u3000\\u3000\\u3000\\u3000 ━━━━❤️＆⚡️\\n\\n抽選で豪華グッズをプレゼント🎁✨\\n\\n🎁応募方法🎁\\n1⃣@ac_matsu…',\n",
       " 'public_metrics': {'retweet_count': 943,\n",
       "  'reply_count': 0,\n",
       "  'like_count': 0,\n",
       "  'quote_count': 0}}"
      ]
     },
     "execution_count": 7,
     "metadata": {},
     "output_type": "execute_result"
    }
   ],
   "source": [
    "# example tweet content (json structure)\n",
    "tweets[0]"
   ]
  },
  {
   "cell_type": "code",
   "execution_count": 8,
   "id": "3165498f",
   "metadata": {},
   "outputs": [],
   "source": [
    "# save tweets data to json file\n",
    "file_out = f\"raw_tweet_data_{ntweets}.json\"\n",
    "with open(file_out, mode='w') as f:\n",
    "    f.write(json.dumps(tweets, indent=2))"
   ]
  },
  {
   "cell_type": "code",
   "execution_count": null,
   "id": "fd481247",
   "metadata": {},
   "outputs": [],
   "source": []
  },
  {
   "cell_type": "code",
   "execution_count": null,
   "id": "5f32a5f1",
   "metadata": {},
   "outputs": [],
   "source": []
  }
 ],
 "metadata": {
  "kernelspec": {
   "display_name": "Python 3 (ipykernel)",
   "language": "python",
   "name": "python3"
  },
  "language_info": {
   "codemirror_mode": {
    "name": "ipython",
    "version": 3
   },
   "file_extension": ".py",
   "mimetype": "text/x-python",
   "name": "python",
   "nbconvert_exporter": "python",
   "pygments_lexer": "ipython3",
   "version": "3.9.12"
  },
  "toc": {
   "base_numbering": 1,
   "nav_menu": {},
   "number_sections": true,
   "sideBar": true,
   "skip_h1_title": false,
   "title_cell": "Table of Contents",
   "title_sidebar": "Contents",
   "toc_cell": false,
   "toc_position": {},
   "toc_section_display": true,
   "toc_window_display": false
  },
  "varInspector": {
   "cols": {
    "lenName": 16,
    "lenType": 16,
    "lenVar": 40
   },
   "kernels_config": {
    "python": {
     "delete_cmd_postfix": "",
     "delete_cmd_prefix": "del ",
     "library": "var_list.py",
     "varRefreshCmd": "print(var_dic_list())"
    },
    "r": {
     "delete_cmd_postfix": ") ",
     "delete_cmd_prefix": "rm(",
     "library": "var_list.r",
     "varRefreshCmd": "cat(var_dic_list()) "
    }
   },
   "types_to_exclude": [
    "module",
    "function",
    "builtin_function_or_method",
    "instance",
    "_Feature"
   ],
   "window_display": false
  }
 },
 "nbformat": 4,
 "nbformat_minor": 5
}
